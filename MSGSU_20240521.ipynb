{
  "nbformat": 4,
  "nbformat_minor": 0,
  "metadata": {
    "colab": {
      "provenance": []
    },
    "kernelspec": {
      "name": "python3",
      "display_name": "Python 3"
    },
    "language_info": {
      "name": "python"
    }
  },
  "cells": [
    {
      "cell_type": "code",
      "execution_count": 8,
      "metadata": {
        "colab": {
          "base_uri": "https://localhost:8080/",
          "height": 35
        },
        "id": "-tQ7ecMbfAho",
        "outputId": "bac80f29-dc40-4669-840b-d5c5e59bf9a8"
      },
      "outputs": [
        {
          "output_type": "execute_result",
          "data": {
            "text/plain": [
              "'*\\n**\\n***\\n****\\n*****'"
            ],
            "application/vnd.google.colaboratory.intrinsic+json": {
              "type": "string"
            }
          },
          "metadata": {},
          "execution_count": 8
        }
      ],
      "source": [
        "\"\"\"*\n",
        "**\n",
        "***\n",
        "****\n",
        "*****\"\"\""
      ]
    },
    {
      "cell_type": "code",
      "source": [
        "print(\"*\")\n",
        "print(\"**\")\n",
        "print(\"***\")"
      ],
      "metadata": {
        "colab": {
          "base_uri": "https://localhost:8080/"
        },
        "id": "TbWIsUMyimY2",
        "outputId": "88d4f29f-8089-4ae6-ab4d-912cde8cb6e3"
      },
      "execution_count": 9,
      "outputs": [
        {
          "output_type": "stream",
          "name": "stdout",
          "text": [
            "*\n",
            "**\n",
            "***\n"
          ]
        }
      ]
    },
    {
      "cell_type": "code",
      "source": [
        "***\n",
        "***\n",
        "***"
      ],
      "metadata": {
        "id": "YduFruzgi696"
      },
      "execution_count": null,
      "outputs": []
    },
    {
      "cell_type": "code",
      "source": [
        "print(\"***\")\n",
        "print(\"***\")\n",
        "print(\"***\")"
      ],
      "metadata": {
        "colab": {
          "base_uri": "https://localhost:8080/"
        },
        "id": "IKCaG36ei-9S",
        "outputId": "cce47d39-0ec0-4b35-b6db-61bacd63f805"
      },
      "execution_count": 10,
      "outputs": [
        {
          "output_type": "stream",
          "name": "stdout",
          "text": [
            "***\n",
            "***\n",
            "***\n"
          ]
        }
      ]
    },
    {
      "cell_type": "code",
      "source": [
        "range(5)"
      ],
      "metadata": {
        "colab": {
          "base_uri": "https://localhost:8080/"
        },
        "id": "zUGBB6hXjCWS",
        "outputId": "03cb8d58-c830-49e9-90a8-717c418e9d13"
      },
      "execution_count": 11,
      "outputs": [
        {
          "output_type": "execute_result",
          "data": {
            "text/plain": [
              "range(0, 5)"
            ]
          },
          "metadata": {},
          "execution_count": 11
        }
      ]
    },
    {
      "cell_type": "code",
      "source": [
        "for i in range(0,5):\n",
        "  print(\"*****\")"
      ],
      "metadata": {
        "colab": {
          "base_uri": "https://localhost:8080/"
        },
        "id": "4bO-HERxjINu",
        "outputId": "d0f1c42b-1c24-4897-9c2a-77ea2cad5835"
      },
      "execution_count": 13,
      "outputs": [
        {
          "output_type": "stream",
          "name": "stdout",
          "text": [
            "*****\n",
            "*****\n",
            "*****\n",
            "*****\n",
            "*****\n"
          ]
        }
      ]
    },
    {
      "cell_type": "code",
      "source": [
        "\"*\" * 7"
      ],
      "metadata": {
        "colab": {
          "base_uri": "https://localhost:8080/",
          "height": 35
        },
        "id": "2fWdNNzHjYdm",
        "outputId": "28635ac8-8671-4b40-cf7d-9ed23f7c9b56"
      },
      "execution_count": 16,
      "outputs": [
        {
          "output_type": "execute_result",
          "data": {
            "text/plain": [
              "'*******'"
            ],
            "application/vnd.google.colaboratory.intrinsic+json": {
              "type": "string"
            }
          },
          "metadata": {},
          "execution_count": 16
        }
      ]
    },
    {
      "cell_type": "code",
      "source": [
        "for i in range(0,9):\n",
        "  print(\"*\"* 9)"
      ],
      "metadata": {
        "colab": {
          "base_uri": "https://localhost:8080/"
        },
        "id": "XD_k6PFrjln0",
        "outputId": "c1eb3c77-1668-4d71-e212-40c21fc17926"
      },
      "execution_count": 21,
      "outputs": [
        {
          "output_type": "stream",
          "name": "stdout",
          "text": [
            "*********\n",
            "*********\n",
            "*********\n",
            "*********\n",
            "*********\n",
            "*********\n",
            "*********\n",
            "*********\n",
            "*********\n"
          ]
        }
      ]
    },
    {
      "cell_type": "markdown",
      "source": [
        "```code\n",
        " *\n",
        "***\n",
        " *\n",
        "```"
      ],
      "metadata": {
        "id": "aXJ7lfl1krMu"
      }
    },
    {
      "cell_type": "markdown",
      "source": [
        "```code\n",
        "  *\n",
        " ***\n",
        "*****\n",
        " ***\n",
        "  *\n",
        "```"
      ],
      "metadata": {
        "id": "eDWLsPvSkU8j"
      }
    },
    {
      "cell_type": "markdown",
      "source": [
        "```code\n",
        "   *\n",
        "  ***\n",
        " *****\n",
        "*******\n",
        " *****\n",
        "  ***\n",
        "   *\n",
        "```"
      ],
      "metadata": {
        "id": "jzijFKX2kdOb"
      }
    },
    {
      "cell_type": "code",
      "source": [
        "baklava = 7\n",
        "for i in range(baklava):\n",
        "  satir = i + 1\n",
        "  bosluk_sayisi = abs(int(baklava / 2) - satir + 1)\n",
        "  print(bosluk_sayisi)"
      ],
      "metadata": {
        "colab": {
          "base_uri": "https://localhost:8080/"
        },
        "id": "ol3VAhWyknkS",
        "outputId": "d83041c0-054b-4dd3-c9b7-7691d58470c8"
      },
      "execution_count": 66,
      "outputs": [
        {
          "output_type": "stream",
          "name": "stdout",
          "text": [
            "3\n",
            "2\n",
            "1\n",
            "0\n",
            "1\n",
            "2\n",
            "3\n"
          ]
        }
      ]
    },
    {
      "cell_type": "code",
      "source": [
        "baklava = 7\n",
        "satir = 7"
      ],
      "metadata": {
        "id": "mMvhv60Nm7nY"
      },
      "execution_count": 60,
      "outputs": []
    },
    {
      "cell_type": "code",
      "source": [
        "int(baklava / 2) - satir + 1"
      ],
      "metadata": {
        "colab": {
          "base_uri": "https://localhost:8080/"
        },
        "id": "Bp_EnpvYmmiH",
        "outputId": "65dea75c-f7b9-4146-f7d1-298ef88a6e61"
      },
      "execution_count": 61,
      "outputs": [
        {
          "output_type": "execute_result",
          "data": {
            "text/plain": [
              "-3"
            ]
          },
          "metadata": {},
          "execution_count": 61
        }
      ]
    },
    {
      "cell_type": "code",
      "source": [
        "abs(-1)"
      ],
      "metadata": {
        "colab": {
          "base_uri": "https://localhost:8080/"
        },
        "id": "B3vo75OxoXgH",
        "outputId": "a5297364-67b3-4447-8669-38421202bcc8"
      },
      "execution_count": 65,
      "outputs": [
        {
          "output_type": "execute_result",
          "data": {
            "text/plain": [
              "1"
            ]
          },
          "metadata": {},
          "execution_count": 65
        }
      ]
    },
    {
      "cell_type": "code",
      "source": [
        "def bosluk_fn(baklava, satir):\n",
        "  bosluk_sayisi = abs(int(baklava / 2) - satir + 1)\n",
        "  return bosluk_sayisi"
      ],
      "metadata": {
        "id": "Ixz5ZQf2onJ2"
      },
      "execution_count": 68,
      "outputs": []
    },
    {
      "cell_type": "code",
      "source": [
        "bosluk_fn(7, 1)"
      ],
      "metadata": {
        "colab": {
          "base_uri": "https://localhost:8080/"
        },
        "id": "0YS7xwsrpZYy",
        "outputId": "71f7731d-d070-4e95-d37d-1e88f488108d"
      },
      "execution_count": 69,
      "outputs": [
        {
          "output_type": "execute_result",
          "data": {
            "text/plain": [
              "3"
            ]
          },
          "metadata": {},
          "execution_count": 69
        }
      ]
    },
    {
      "cell_type": "code",
      "source": [
        "baklava = 7\n",
        "for i in range(baklava):\n",
        "  satir = i + 1\n",
        "  bosluk_sayisi = bosluk_fn(baklava, satir)\n",
        "  print(bosluk_sayisi)"
      ],
      "metadata": {
        "colab": {
          "base_uri": "https://localhost:8080/"
        },
        "id": "K7zp_X0TpjeE",
        "outputId": "59e124e2-fb04-4234-f4d6-c80416db1dd9"
      },
      "execution_count": 70,
      "outputs": [
        {
          "output_type": "stream",
          "name": "stdout",
          "text": [
            "3\n",
            "2\n",
            "1\n",
            "0\n",
            "1\n",
            "2\n",
            "3\n"
          ]
        }
      ]
    },
    {
      "cell_type": "code",
      "source": [
        "baklava = 7\n",
        "satir = 4\n",
        "(baklava - satir) / (satir + 1)"
      ],
      "metadata": {
        "colab": {
          "base_uri": "https://localhost:8080/"
        },
        "id": "oOoS2pEMpuf-",
        "outputId": "48b14091-5cfb-44e4-a74a-a669485a7379"
      },
      "execution_count": 81,
      "outputs": [
        {
          "output_type": "execute_result",
          "data": {
            "text/plain": [
              "0.6"
            ]
          },
          "metadata": {},
          "execution_count": 81
        }
      ]
    },
    {
      "cell_type": "code",
      "source": [
        "\"*\" * 0"
      ],
      "metadata": {
        "colab": {
          "base_uri": "https://localhost:8080/",
          "height": 35
        },
        "id": "11q4N4syqk31",
        "outputId": "aaa4a4ac-6ab6-4273-d43b-f0d4317efdce"
      },
      "execution_count": 83,
      "outputs": [
        {
          "output_type": "execute_result",
          "data": {
            "text/plain": [
              "''"
            ],
            "application/vnd.google.colaboratory.intrinsic+json": {
              "type": "string"
            }
          },
          "metadata": {},
          "execution_count": 83
        }
      ]
    },
    {
      "cell_type": "markdown",
      "source": [
        "```code\n",
        "aaa*\n",
        "aa***\n",
        "a*****\n",
        "*******\n",
        "a*****\n",
        "aa***\n",
        "aaa*\n",
        "```"
      ],
      "metadata": {
        "id": "4TlMK2U8qtoP"
      }
    },
    {
      "cell_type": "code",
      "source": [
        "baklava = 7\n",
        "for i in range(baklava):\n",
        "  satir = i + 1\n",
        "  bosluk_sayisi = bosluk_fn(baklava, satir)\n",
        "  print(\"a\" * bosluk_sayisi)"
      ],
      "metadata": {
        "colab": {
          "base_uri": "https://localhost:8080/"
        },
        "id": "u_5ba4M-qiqq",
        "outputId": "d9b64b2b-8b8c-42be-f816-1ee7649dde8f"
      },
      "execution_count": 89,
      "outputs": [
        {
          "output_type": "stream",
          "name": "stdout",
          "text": [
            "aaa\n",
            "aa\n",
            "a\n",
            "\n",
            "a\n",
            "aa\n",
            "aaa\n"
          ]
        }
      ]
    },
    {
      "cell_type": "code",
      "source": [
        "def yildiz_fn(baklava, satir):\n",
        "  yildiz_sayisi = 2 * satir - 1\n",
        "  if yildiz_sayisi > baklava:\n",
        "    ##print(\"üst sınırdan büyük\")\n",
        "    # yildiz_sayisi = baklava - (yildiz_sayisi - baklava)\n",
        "    yildiz_sayisi = baklava * 2 - yildiz_sayisi\n",
        "    # yildiz_sayisi = ... başka ne gibi formül yazılabilir?\n",
        "  return yildiz_sayisi"
      ],
      "metadata": {
        "id": "PvlVa5huq_EF"
      },
      "execution_count": 100,
      "outputs": []
    },
    {
      "cell_type": "code",
      "source": [
        "for i in range(baklava):\n",
        "  print(yildiz_fn(baklava, (i+1)))"
      ],
      "metadata": {
        "colab": {
          "base_uri": "https://localhost:8080/"
        },
        "id": "Fnk9hM3WrRQw",
        "outputId": "967116ac-02c6-425a-b8d4-0ddf922987a1"
      },
      "execution_count": 101,
      "outputs": [
        {
          "output_type": "stream",
          "name": "stdout",
          "text": [
            "1\n",
            "3\n",
            "5\n",
            "7\n",
            "5\n",
            "3\n",
            "1\n"
          ]
        }
      ]
    },
    {
      "cell_type": "code",
      "source": [
        "baklava = 21\n",
        "for i in range(baklava):\n",
        "  satir = i + 1\n",
        "  bosluk_sayisi = bosluk_fn(baklava, satir)\n",
        "  yildiz_sayisi = yildiz_fn(baklava, satir)\n",
        "  print(\" \" * bosluk_sayisi + \"*\" * yildiz_sayisi)"
      ],
      "metadata": {
        "colab": {
          "base_uri": "https://localhost:8080/"
        },
        "id": "6xYlHtghtqua",
        "outputId": "f845ded0-5fac-48d3-dcc3-ed4ec53a026f"
      },
      "execution_count": 106,
      "outputs": [
        {
          "output_type": "stream",
          "name": "stdout",
          "text": [
            "          *\n",
            "         ***\n",
            "        *****\n",
            "       *******\n",
            "      *********\n",
            "     ***********\n",
            "    *************\n",
            "   ***************\n",
            "  *****************\n",
            " *******************\n",
            "*********************\n",
            " *******************\n",
            "  *****************\n",
            "   ***************\n",
            "    *************\n",
            "     ***********\n",
            "      *********\n",
            "       *******\n",
            "        *****\n",
            "         ***\n",
            "          *\n"
          ]
        }
      ]
    },
    {
      "cell_type": "code",
      "source": [
        "def baklava_fn(baklava):\n",
        "  for i in range(baklava):\n",
        "    satir = i + 1\n",
        "    bosluk_sayisi = bosluk_fn(baklava, satir)\n",
        "    yildiz_sayisi = yildiz_fn(baklava, satir)\n",
        "    print(\" \" * bosluk_sayisi + \"*\" * yildiz_sayisi)"
      ],
      "metadata": {
        "id": "kFJHVT42uHrv"
      },
      "execution_count": 107,
      "outputs": []
    },
    {
      "cell_type": "code",
      "source": [
        "baklava_fn(25)"
      ],
      "metadata": {
        "colab": {
          "base_uri": "https://localhost:8080/"
        },
        "id": "17rJgtUVuS8u",
        "outputId": "051b1ef9-3818-42c4-da2e-b610bd7607ed"
      },
      "execution_count": 108,
      "outputs": [
        {
          "output_type": "stream",
          "name": "stdout",
          "text": [
            "            *\n",
            "           ***\n",
            "          *****\n",
            "         *******\n",
            "        *********\n",
            "       ***********\n",
            "      *************\n",
            "     ***************\n",
            "    *****************\n",
            "   *******************\n",
            "  *********************\n",
            " ***********************\n",
            "*************************\n",
            " ***********************\n",
            "  *********************\n",
            "   *******************\n",
            "    *****************\n",
            "     ***************\n",
            "      *************\n",
            "       ***********\n",
            "        *********\n",
            "         *******\n",
            "          *****\n",
            "           ***\n",
            "            *\n"
          ]
        }
      ]
    },
    {
      "cell_type": "code",
      "source": [
        "for i in range(5):\n",
        "  baklava_fn(2*i+1)"
      ],
      "metadata": {
        "colab": {
          "base_uri": "https://localhost:8080/"
        },
        "id": "d8k72OlduY0O",
        "outputId": "73ddc467-4bbe-4fef-85f2-de570e12482f"
      },
      "execution_count": 110,
      "outputs": [
        {
          "output_type": "stream",
          "name": "stdout",
          "text": [
            "*\n",
            " *\n",
            "***\n",
            " *\n",
            "  *\n",
            " ***\n",
            "*****\n",
            " ***\n",
            "  *\n",
            "   *\n",
            "  ***\n",
            " *****\n",
            "*******\n",
            " *****\n",
            "  ***\n",
            "   *\n",
            "    *\n",
            "   ***\n",
            "  *****\n",
            " *******\n",
            "*********\n",
            " *******\n",
            "  *****\n",
            "   ***\n",
            "    *\n"
          ]
        }
      ]
    },
    {
      "cell_type": "code",
      "source": [
        "def kare_fn(uzunluk):\n",
        "  for i in range(0, uzunluk):\n",
        "    print(\"*\"* uzunluk)"
      ],
      "metadata": {
        "id": "hCWv10eiuqib"
      },
      "execution_count": 112,
      "outputs": []
    },
    {
      "cell_type": "code",
      "source": [
        "for i in range(5):\n",
        "  kare_fn(i+1)\n",
        "  print(\"---------------\")"
      ],
      "metadata": {
        "colab": {
          "base_uri": "https://localhost:8080/"
        },
        "id": "b3kXZcg6u24P",
        "outputId": "a87b98a8-27c6-4e03-8179-ef8f19f637c1"
      },
      "execution_count": 114,
      "outputs": [
        {
          "output_type": "stream",
          "name": "stdout",
          "text": [
            "*\n",
            "---------------\n",
            "**\n",
            "**\n",
            "---------------\n",
            "***\n",
            "***\n",
            "***\n",
            "---------------\n",
            "****\n",
            "****\n",
            "****\n",
            "****\n",
            "---------------\n",
            "*****\n",
            "*****\n",
            "*****\n",
            "*****\n",
            "*****\n",
            "---------------\n"
          ]
        }
      ]
    },
    {
      "cell_type": "code",
      "source": [
        "kac_baklava_alt_alta = 3\n",
        "for i in range(kac_baklava_alt_alta):\n",
        "  baklava_fn(11)"
      ],
      "metadata": {
        "colab": {
          "base_uri": "https://localhost:8080/"
        },
        "id": "PlBkFJX1vP6S",
        "outputId": "07455415-9ac5-4271-8e51-d91dc47a4c60"
      },
      "execution_count": 116,
      "outputs": [
        {
          "output_type": "stream",
          "name": "stdout",
          "text": [
            "     *\n",
            "    ***\n",
            "   *****\n",
            "  *******\n",
            " *********\n",
            "***********\n",
            " *********\n",
            "  *******\n",
            "   *****\n",
            "    ***\n",
            "     *\n",
            "     *\n",
            "    ***\n",
            "   *****\n",
            "  *******\n",
            " *********\n",
            "***********\n",
            " *********\n",
            "  *******\n",
            "   *****\n",
            "    ***\n",
            "     *\n",
            "     *\n",
            "    ***\n",
            "   *****\n",
            "  *******\n",
            " *********\n",
            "***********\n",
            " *********\n",
            "  *******\n",
            "   *****\n",
            "    ***\n",
            "     *\n"
          ]
        }
      ]
    },
    {
      "cell_type": "code",
      "source": [
        "def yanyana_baklava_fn(baklava, yanyana):\n",
        "  for i in range(baklava):\n",
        "    satir = i + 1\n",
        "    bosluk_sayisi = bosluk_fn(baklava, satir)\n",
        "    yildiz_sayisi = yildiz_fn(baklava, satir)\n",
        "    satir_metni = \"\"\n",
        "    for j in range(yanyana):\n",
        "      satir_metni = satir_metni + (\" \" * bosluk_sayisi + \"*\" * yildiz_sayisi + \" \" * bosluk_sayisi)\n",
        "    print(satir_metni)"
      ],
      "metadata": {
        "id": "oS5I8wxyvz_z"
      },
      "execution_count": 121,
      "outputs": []
    },
    {
      "cell_type": "code",
      "source": [
        "yanyana_baklava_fn(11, 1)"
      ],
      "metadata": {
        "colab": {
          "base_uri": "https://localhost:8080/"
        },
        "id": "xGcAjqIzv-qB",
        "outputId": "150dca4f-e32b-46ac-f4bb-f99a9d5c9e0f"
      },
      "execution_count": 119,
      "outputs": [
        {
          "output_type": "stream",
          "name": "stdout",
          "text": [
            "     *     \n",
            "    ***    \n",
            "   *****   \n",
            "  *******  \n",
            " ********* \n",
            "***********\n",
            " ********* \n",
            "  *******  \n",
            "   *****   \n",
            "    ***    \n",
            "     *     \n"
          ]
        }
      ]
    },
    {
      "cell_type": "code",
      "source": [
        "yanyana_baklava_fn(11, 2)"
      ],
      "metadata": {
        "colab": {
          "base_uri": "https://localhost:8080/"
        },
        "id": "szTiukArwcvS",
        "outputId": "42bacc75-fe0d-407b-e3fd-0299a7cd442e"
      },
      "execution_count": 123,
      "outputs": [
        {
          "output_type": "stream",
          "name": "stdout",
          "text": [
            "     *          *     \n",
            "    ***        ***    \n",
            "   *****      *****   \n",
            "  *******    *******  \n",
            " *********  ********* \n",
            "**********************\n",
            " *********  ********* \n",
            "  *******    *******  \n",
            "   *****      *****   \n",
            "    ***        ***    \n",
            "     *          *     \n"
          ]
        }
      ]
    },
    {
      "cell_type": "code",
      "source": [
        "yanyana_baklava_fn(11, 5)"
      ],
      "metadata": {
        "colab": {
          "base_uri": "https://localhost:8080/"
        },
        "id": "uFaG7EtMwi7_",
        "outputId": "59ff3be5-8427-48f3-f645-ca735a8e425a"
      },
      "execution_count": 124,
      "outputs": [
        {
          "output_type": "stream",
          "name": "stdout",
          "text": [
            "     *          *          *          *          *     \n",
            "    ***        ***        ***        ***        ***    \n",
            "   *****      *****      *****      *****      *****   \n",
            "  *******    *******    *******    *******    *******  \n",
            " *********  *********  *********  *********  ********* \n",
            "*******************************************************\n",
            " *********  *********  *********  *********  ********* \n",
            "  *******    *******    *******    *******    *******  \n",
            "   *****      *****      *****      *****      *****   \n",
            "    ***        ***        ***        ***        ***    \n",
            "     *          *          *          *          *     \n"
          ]
        }
      ]
    },
    {
      "cell_type": "code",
      "source": [
        "kac_baklava_alt_alta = 3\n",
        "for i in range(kac_baklava_alt_alta):\n",
        "  yanyana_baklava_fn(11, 5)"
      ],
      "metadata": {
        "colab": {
          "base_uri": "https://localhost:8080/"
        },
        "id": "BJIi8LFKwqhB",
        "outputId": "5e255472-6b54-4375-90b0-affac1f6e3cf"
      },
      "execution_count": 125,
      "outputs": [
        {
          "output_type": "stream",
          "name": "stdout",
          "text": [
            "     *          *          *          *          *     \n",
            "    ***        ***        ***        ***        ***    \n",
            "   *****      *****      *****      *****      *****   \n",
            "  *******    *******    *******    *******    *******  \n",
            " *********  *********  *********  *********  ********* \n",
            "*******************************************************\n",
            " *********  *********  *********  *********  ********* \n",
            "  *******    *******    *******    *******    *******  \n",
            "   *****      *****      *****      *****      *****   \n",
            "    ***        ***        ***        ***        ***    \n",
            "     *          *          *          *          *     \n",
            "     *          *          *          *          *     \n",
            "    ***        ***        ***        ***        ***    \n",
            "   *****      *****      *****      *****      *****   \n",
            "  *******    *******    *******    *******    *******  \n",
            " *********  *********  *********  *********  ********* \n",
            "*******************************************************\n",
            " *********  *********  *********  *********  ********* \n",
            "  *******    *******    *******    *******    *******  \n",
            "   *****      *****      *****      *****      *****   \n",
            "    ***        ***        ***        ***        ***    \n",
            "     *          *          *          *          *     \n",
            "     *          *          *          *          *     \n",
            "    ***        ***        ***        ***        ***    \n",
            "   *****      *****      *****      *****      *****   \n",
            "  *******    *******    *******    *******    *******  \n",
            " *********  *********  *********  *********  ********* \n",
            "*******************************************************\n",
            " *********  *********  *********  *********  ********* \n",
            "  *******    *******    *******    *******    *******  \n",
            "   *****      *****      *****      *****      *****   \n",
            "    ***        ***        ***        ***        ***    \n",
            "     *          *          *          *          *     \n"
          ]
        }
      ]
    }
  ]
}
